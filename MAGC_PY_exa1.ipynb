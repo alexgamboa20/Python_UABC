{
  "nbformat": 4,
  "nbformat_minor": 0,
  "metadata": {
    "colab": {
      "provenance": [],
      "authorship_tag": "ABX9TyOUxxanLM7uM43D89z6cksM",
      "include_colab_link": true
    },
    "kernelspec": {
      "name": "python3",
      "display_name": "Python 3"
    },
    "language_info": {
      "name": "python"
    }
  },
  "cells": [
    {
      "cell_type": "markdown",
      "metadata": {
        "id": "view-in-github",
        "colab_type": "text"
      },
      "source": [
        "<a href=\"https://colab.research.google.com/github/alexgamboa20/Python_UABC/blob/main/MAGC_PY_exa1.ipynb\" target=\"_parent\"><img src=\"https://colab.research.google.com/assets/colab-badge.svg\" alt=\"Open In Colab\"/></a>"
      ]
    },
    {
      "cell_type": "markdown",
      "source": [
        "# PREGUNTA 1"
      ],
      "metadata": {
        "id": "O66D5InosEoj"
      }
    },
    {
      "cell_type": "code",
      "execution_count": 34,
      "metadata": {
        "id": "Oku5sIJmnVar"
      },
      "outputs": [],
      "source": [
        "def num_20_100():\n",
        "    lista=[]\n",
        "    for i in range(10):\n",
        "        while True:\n",
        "            num=random.randint(0, 80)+20\n",
        "            if num not in lista:\n",
        "                break\n",
        "        lista.append(num)\n",
        "    return lista\n",
        "\n",
        "\n",
        "def impr_list(lista=[]):\n",
        "    for i,cadena in enumerate(lista):\n",
        "        print (f\" {[i]}{cadena}\")"
      ]
    },
    {
      "cell_type": "code",
      "source": [
        "lista=[]\n",
        "lista=num_20_100()\n",
        "impr_list(lista)"
      ],
      "metadata": {
        "id": "I7K4gNbqrOU7"
      },
      "execution_count": null,
      "outputs": []
    },
    {
      "cell_type": "markdown",
      "source": [
        "# PREGUNTA 2"
      ],
      "metadata": {
        "id": "8HqB8TF-sEBT"
      }
    },
    {
      "cell_type": "code",
      "source": [
        "def factorial_int():\n",
        "    num=int(input(\"Dame un numero :\"))\n",
        "    mult=1\n",
        "    sum=1\n",
        "    for i in range(num):\n",
        "        fact=sum*mult\n",
        "        sum=fact\n",
        "        mult+=1\n",
        "    return fact"
      ],
      "metadata": {
        "id": "pMuI6jtYsJuj"
      },
      "execution_count": 39,
      "outputs": []
    },
    {
      "cell_type": "code",
      "source": [
        "factorial= factorial_int()\n",
        "print(factorial)"
      ],
      "metadata": {
        "id": "M19RXYa8s5Fg"
      },
      "execution_count": null,
      "outputs": []
    },
    {
      "cell_type": "markdown",
      "source": [
        "# PREGUNTA 3"
      ],
      "metadata": {
        "id": "FcusMo3KtuLE"
      }
    },
    {
      "cell_type": "code",
      "source": [
        "def pedir_dicc():\n",
        "    dicc={ \"id\" : 1,\n",
        "           \"nombre\" : \"x\",\n",
        "           \"appaterno\" : \"x\",\n",
        "           \"apmaterno\" : \"x\",\n",
        "           \"edad\" : 1,\n",
        "         }\n",
        "    try:\n",
        "        nombre=str((input(\"Dame tu nombre: \")))\n",
        "        dicc[\"nombre\"] = nombre\n",
        "        appat=str((input(\"Dame tu apellido paterno: \")))\n",
        "        dicc[\"appaterno\"] = appat\n",
        "        apmat=str((input(\"Dame tu apellido materno: \")))\n",
        "        dicc[\"apmaterno\"] = apmat\n",
        "        edad=int(input(\"Dame tu edad: \"))\n",
        "        dicc[\"edad\"] = edad\n",
        "    except:\n",
        "        print(\"ERROR\")\n",
        "    return dicc"
      ],
      "metadata": {
        "id": "TLwmVakutwF0"
      },
      "execution_count": 42,
      "outputs": []
    },
    {
      "cell_type": "code",
      "source": [
        "diccionario=pedir_dicc()\n",
        "print(diccionario)"
      ],
      "metadata": {
        "id": "zkHe2ryVwagd"
      },
      "execution_count": null,
      "outputs": []
    }
  ]
}