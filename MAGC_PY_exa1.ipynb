{
  "nbformat": 4,
  "nbformat_minor": 0,
  "metadata": {
    "colab": {
      "provenance": [],
      "authorship_tag": "ABX9TyNvAixlB9Qm1J9fWnVrq8M8",
      "include_colab_link": true
    },
    "kernelspec": {
      "name": "python3",
      "display_name": "Python 3"
    },
    "language_info": {
      "name": "python"
    }
  },
  "cells": [
    {
      "cell_type": "markdown",
      "metadata": {
        "id": "view-in-github",
        "colab_type": "text"
      },
      "source": [
        "<a href=\"https://colab.research.google.com/github/alexgamboa20/Python_UABC/blob/main/MAGC_PY_exa1.ipynb\" target=\"_parent\"><img src=\"https://colab.research.google.com/assets/colab-badge.svg\" alt=\"Open In Colab\"/></a>"
      ]
    },
    {
      "cell_type": "code",
      "execution_count": 19,
      "metadata": {
        "id": "Oku5sIJmnVar"
      },
      "outputs": [],
      "source": [
        "def num_30_50():\n",
        "    lista=[]\n",
        "    for i in range(10):\n",
        "        while True:\n",
        "            num=random.randint(0, 80)+20\n",
        "            if num not in lista:\n",
        "                break\n",
        "        lista.append(num)\n",
        "    return lista\n",
        "\n",
        "\n",
        "def impr_list(lista=[]):\n",
        "    for i,cadena in enumerate(lista):\n",
        "        print (f\" {[i]}{cadena}\")"
      ]
    },
    {
      "cell_type": "code",
      "source": [
        "lista=[]\n",
        "lista=num_30_50()\n",
        "impr_list(lista)"
      ],
      "metadata": {
        "id": "I7K4gNbqrOU7"
      },
      "execution_count": null,
      "outputs": []
    }
  ]
}